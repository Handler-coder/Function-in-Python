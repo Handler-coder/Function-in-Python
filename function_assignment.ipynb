{
  "nbformat": 4,
  "nbformat_minor": 0,
  "metadata": {
    "colab": {
      "provenance": []
    },
    "kernelspec": {
      "name": "python3",
      "display_name": "Python 3"
    },
    "language_info": {
      "name": "python"
    }
  },
  "cells": [
    {
      "cell_type": "markdown",
      "source": [
        "##**Functions**"
      ],
      "metadata": {
        "id": "PKHkwGqPLWe7"
      }
    },
    {
      "cell_type": "markdown",
      "source": [
        " Theory Questions\n"
      ],
      "metadata": {
        "id": "Opyqb8GYLWk2"
      }
    },
    {
      "cell_type": "markdown",
      "source": [
        "1. What is the difference between a fuction and a method in Python?\n",
        "\n",
        " * Function :- A function is a block of code that can be called by its name,typically without being associated with an object. It can be defined globally and is called by passing arguments.\n",
        "\n",
        " * Method:- A method is a function that is associated with an object and is called using the object.\n",
        "\n",
        " For example:\n",
        " * Function:- def add(x,y): return x+y\n",
        " * Method:- my_list.append(10)"
      ],
      "metadata": {
        "id": "6CmKO79RLWmt"
      }
    },
    {
      "cell_type": "markdown",
      "source": [
        "2. Explain the concept of function arguments and parameters in Python.\n",
        "\n",
        "* Parameters are variables defined in the function signature (when defining the function),and arguments are the actual values passed to the function when it is called.\n",
        "\n",
        "* Example:\n",
        "           def greet(name):  # 'name' is the parameter\n",
        "           print(f\"Hello,{name}\")\n",
        "           greet(\"Alice\")  # \"Alice\" is the argument\n"
      ],
      "metadata": {
        "id": "W78BQazqLWpP"
      }
    },
    {
      "cell_type": "markdown",
      "source": [
        "3. What are the different ways to define and call a function in Pyhton?\n",
        "\n",
        " * Defining  a function\n",
        "                       def my_function():\n",
        "                           print(\"Hello,World!\")\n",
        "\n",
        " * Calling a function\n",
        "                    my_function()                            "
      ],
      "metadata": {
        "id": "bNiH6asGLWrm"
      }
    },
    {
      "cell_type": "markdown",
      "source": [
        "4. What is the purpose of the 'return' statement in a Python function?\n",
        "\n",
        " *  The return statement is used to send a result from the function back to the caller. Once the return statement is executed, the function terminates and the value is returned.\n",
        "\n",
        " * Example:\n",
        "            def add(x,y)\n",
        "                return x+y\n",
        "            result = add(3,5)  # result will be 8"
      ],
      "metadata": {
        "id": "5YEfBGV1LWuJ"
      }
    },
    {
      "cell_type": "markdown",
      "source": [
        "5. What are the iterators in Python and how do they differ from iterables?\n",
        "\n",
        " * Iterables: Iterables are objects that can be looped over(e.g lists, tuples), and they implement the _iter_() method.\n",
        "\n",
        " * Iterators: Iterators are object that keep track of the current state and return the next value when next() is called. They implement the _next_() method.\n",
        "\n",
        " * Example:\n",
        "           my_list = [1,2,3,4,5]\n",
        "           iterator = iter(my_list)\n",
        "           print(next(iterator))  # 1"
      ],
      "metadata": {
        "id": "ddBabUsLLWw3"
      }
    },
    {
      "cell_type": "markdown",
      "source": [
        "6. Explain the concept of generators in Python and how they are defined.\n",
        "\n",
        " * A generator is a special type of iterator that is defined using a function with the yield keyword instead of return. It yields values one at a time when iterated over.\n",
        "\n",
        " * Example:\n",
        "           def count_up_to(max):\n",
        "           count = 1\n",
        "           while count <= max:\n",
        "               yield count\n",
        "               count += 1"
      ],
      "metadata": {
        "id": "jBRew0vbLWzb"
      }
    },
    {
      "cell_type": "markdown",
      "source": [
        "7. What are the advantages of using generators over regular functions?\n",
        "\n",
        " * Memory Efficiency:- Generators yield values one at a time, so they don't store the entire sequence in memory, which is useful when dealing with large data sets.\n",
        "\n",
        " * Lazy Evaluation:- They only compute values when needed, improving performance for large data sets."
      ],
      "metadata": {
        "id": "EcbM2gjCLW12"
      }
    },
    {
      "cell_type": "markdown",
      "source": [
        "8. What is a lambda function in Python and when is it typically used?\n",
        "\n",
        " * A lambda function is a small anonymous function defined using the lambda keyword. It can have any number of arguments but only one expression. It's typically used for short-term operations or when you need a simple function for passing as an arguments.\n",
        "\n",
        " * Example:-\n",
        "             square = lambda x: x**2\n",
        "             print(square(5))     # 25"
      ],
      "metadata": {
        "id": "tDyUXnfBLW4j"
      }
    },
    {
      "cell_type": "markdown",
      "source": [
        "9. Explain the purpose and usage of the map() function in Python.\n",
        "\n",
        " * The map() function applies a given function to all items in an iterable and returns an iterator that produces the results.\n",
        "\n",
        " * Example:-\n",
        "            numbers = [1,2,3,4]\n",
        "            result = map(lambda x: x**2, numbers)\n",
        "            print(list(result))     # [1,4,9,16]"
      ],
      "metadata": {
        "id": "3Tow9UQxLW7K"
      }
    },
    {
      "cell_type": "markdown",
      "source": [
        "10. What is the difference between map(), reduce(), and filter() functions in Python?\n",
        "\n",
        " * map() :- Applies a function to every item in an iterable and returns the result.\n",
        "\n",
        " * filter() :- Filters the items of an iterable based on a given condition and returns a new iterable with only the items that satisfy the condition.\n",
        "\n",
        " * reduce() :- Applies a function cumulatively to the items of an iterable and returns a single value.\n",
        "\n",
        "\n"
      ],
      "metadata": {
        "id": "-u0ZShEuW1xZ"
      }
    },
    {
      "cell_type": "markdown",
      "source": [
        "##**Practical Questions**"
      ],
      "metadata": {
        "id": "6qG00gD2aj0z"
      }
    },
    {
      "cell_type": "markdown",
      "source": [
        "1. Write a Python function that takes a list of numbers as input and returns the sum of all even numbers in the list."
      ],
      "metadata": {
        "id": "10OB59GKark9"
      }
    },
    {
      "cell_type": "code",
      "source": [
        "def sum_even_numbers(numbers):\n",
        "    return sum(num for num in numbers if num % 2 == 0)\n",
        "\n",
        "#Test\n",
        "print(sum_even_numbers([1, 2, 3, 4, 5, 6]))  # Outputs: 12"
      ],
      "metadata": {
        "id": "K1pTEQ8_dzRE",
        "colab": {
          "base_uri": "https://localhost:8080/"
        },
        "outputId": "5ec5c75a-fca3-424e-8717-b00d6f60d580"
      },
      "execution_count": 1,
      "outputs": [
        {
          "output_type": "stream",
          "name": "stdout",
          "text": [
            "12\n"
          ]
        }
      ]
    },
    {
      "cell_type": "markdown",
      "source": [
        "2. Create a Python function that accepts a string and returns the reverse of that string."
      ],
      "metadata": {
        "id": "JaO-NHgBb0lf"
      }
    },
    {
      "cell_type": "code",
      "source": [
        "def reverse_string(input_string):\n",
        "  return input_string[::-1]\n",
        "\n",
        "# Test\n",
        "print(reverse_string(\"Hello\"))  # Outputs: olleH"
      ],
      "metadata": {
        "id": "EiISLFN8bdRq",
        "colab": {
          "base_uri": "https://localhost:8080/"
        },
        "outputId": "44021034-8416-4542-ea33-8f1d3f387759"
      },
      "execution_count": 2,
      "outputs": [
        {
          "output_type": "stream",
          "name": "stdout",
          "text": [
            "olleH\n"
          ]
        }
      ]
    },
    {
      "cell_type": "markdown",
      "source": [
        "3. Implement a Python function that takes a list of integers and returns a new list containing the squares of each number."
      ],
      "metadata": {
        "id": "VIeW5FSpcQHM"
      }
    },
    {
      "cell_type": "code",
      "source": [
        "def square_numbers(numbers):\n",
        "    return [num ** 2 for num in numbers]\n",
        "\n",
        "# Test\n",
        "print(square_numbers([1, 2, 3, 4]))  # Outputs: [1, 4, 9, 16]"
      ],
      "metadata": {
        "id": "COroq7WZcQps",
        "colab": {
          "base_uri": "https://localhost:8080/"
        },
        "outputId": "eac9609a-c4f1-4927-8dd6-746fd2ce914b"
      },
      "execution_count": 3,
      "outputs": [
        {
          "output_type": "stream",
          "name": "stdout",
          "text": [
            "[1, 4, 9, 16]\n"
          ]
        }
      ]
    },
    {
      "cell_type": "markdown",
      "source": [
        "4. Write a Python function that checks if a given number is prime or not from 1 to 200."
      ],
      "metadata": {
        "id": "8Wrn3FXxcRKj"
      }
    },
    {
      "cell_type": "code",
      "source": [
        "def is_prime(n):\n",
        "\n",
        "     if n <= 1:\n",
        "        return False\n",
        "     for i in range(2, int(n ** 0.5) + 1):\n",
        "        if n % i == 0:\n",
        "            return False\n",
        "     return True\n",
        "\n",
        "# Test\n",
        "print([n for n in range(1, 201) if is_prime(n)])  # Outputs: List of primes from 1 to 200\n"
      ],
      "metadata": {
        "id": "F70oGlmZcRbJ",
        "colab": {
          "base_uri": "https://localhost:8080/"
        },
        "outputId": "0d309aeb-6aea-46df-95d6-6440b6e56474"
      },
      "execution_count": 4,
      "outputs": [
        {
          "output_type": "stream",
          "name": "stdout",
          "text": [
            "[2, 3, 5, 7, 11, 13, 17, 19, 23, 29, 31, 37, 41, 43, 47, 53, 59, 61, 67, 71, 73, 79, 83, 89, 97, 101, 103, 107, 109, 113, 127, 131, 137, 139, 149, 151, 157, 163, 167, 173, 179, 181, 191, 193, 197, 199]\n"
          ]
        }
      ]
    },
    {
      "cell_type": "markdown",
      "source": [
        "5. Create an iterator class in Python that generates the Fibonacci sequence up to a specified number of terms."
      ],
      "metadata": {
        "id": "-pcNsJdncRro"
      }
    },
    {
      "cell_type": "code",
      "source": [
        "class FibonacciIterator:\n",
        "    def __init__(self, n):\n",
        "        self.n = n\n",
        "        self.a, self.b = 0, 1\n",
        "        self.count = 0\n",
        "\n",
        "    def __iter__(self):\n",
        "        return self\n",
        "\n",
        "    def __next__(self):\n",
        "        if self.count >= self.n:\n",
        "            raise StopIteration\n",
        "        self.count += 1\n",
        "        result = self.a\n",
        "        self.a, self.b = self.b, self.a + self.b\n",
        "        return result\n",
        "\n",
        "# Test\n",
        "fib = FibonacciIterator(5)\n",
        "print(list(fib))  # Outputs: [0, 1, 1, 2, 3]"
      ],
      "metadata": {
        "id": "BPRlj5ZPcR5o",
        "colab": {
          "base_uri": "https://localhost:8080/"
        },
        "outputId": "a5dd7fcc-50dc-4424-d640-1dde1888473f"
      },
      "execution_count": 5,
      "outputs": [
        {
          "output_type": "stream",
          "name": "stdout",
          "text": [
            "[0, 1, 1, 2, 3]\n"
          ]
        }
      ]
    },
    {
      "cell_type": "markdown",
      "source": [
        "6. Write a generator function in Python that yields the powers of 2 upto a given exponent."
      ],
      "metadata": {
        "id": "swUWuNxwcSIK"
      }
    },
    {
      "cell_type": "code",
      "source": [
        "def powers_of_two(exponent):\n",
        "    for i in range(exponent + 1):\n",
        "        yield 2 ** i\n",
        "\n",
        "# Test\n",
        "print(list(powers_of_two(5)))  # Outputs: [1, 2, 4, 8, 16, 32]"
      ],
      "metadata": {
        "id": "CZIeH1bRcSXi",
        "colab": {
          "base_uri": "https://localhost:8080/"
        },
        "outputId": "3d0fa607-2849-4a78-eb50-2ec7dce34190"
      },
      "execution_count": 6,
      "outputs": [
        {
          "output_type": "stream",
          "name": "stdout",
          "text": [
            "[1, 2, 4, 8, 16, 32]\n"
          ]
        }
      ]
    },
    {
      "cell_type": "markdown",
      "source": [
        "7. Implement a genetrator function that reads a file line by line and yields each line as a string."
      ],
      "metadata": {
        "id": "PbYiJUuJcSmi"
      }
    },
    {
      "cell_type": "code",
      "source": [
        "def read_lines(data):\n",
        "    for line in data.split('\\n'):\n",
        "        yield line\n",
        "\n",
        "# Test with dummy data\n",
        "dummy_file = \"Line 1\\nLine 2\\nLine 3\"\n",
        "for line in read_lines(dummy_file):\n",
        "    print(line)"
      ],
      "metadata": {
        "id": "z58ssQlvcS1R",
        "colab": {
          "base_uri": "https://localhost:8080/"
        },
        "outputId": "f2205c5a-86e5-4d61-946e-3dbf39df3988"
      },
      "execution_count": 7,
      "outputs": [
        {
          "output_type": "stream",
          "name": "stdout",
          "text": [
            "Line 1\n",
            "Line 2\n",
            "Line 3\n"
          ]
        }
      ]
    },
    {
      "cell_type": "markdown",
      "source": [
        "8. Use a lambda function in Python to sort a list of tuples based on the second element of each tuple."
      ],
      "metadata": {
        "id": "0a7COhCkNT0Y"
      }
    },
    {
      "cell_type": "code",
      "source": [
        "data = [(1, 'b'), (3, 'a'), (2, 'c')]\n",
        "sorted_data = sorted(data, key=lambda x: x[1])\n",
        "print(sorted_data)  # Outputs: [(3, 'a'), (1, 'b'), (2, 'c')]"
      ],
      "metadata": {
        "colab": {
          "base_uri": "https://localhost:8080/"
        },
        "id": "So4-CHuGNUKz",
        "outputId": "6cfb596a-4a56-47f4-a983-1477215dccff"
      },
      "execution_count": 8,
      "outputs": [
        {
          "output_type": "stream",
          "name": "stdout",
          "text": [
            "[(3, 'a'), (1, 'b'), (2, 'c')]\n"
          ]
        }
      ]
    },
    {
      "cell_type": "markdown",
      "source": [
        "9. Write a Python program that uses 'map()' to convert a list of temperatures from celsius to Fahrenheite."
      ],
      "metadata": {
        "id": "MOQpLswdNUnN"
      }
    },
    {
      "cell_type": "code",
      "source": [
        "def celsius_to_fahrenheit(celsius):\n",
        "    return (celsius * 9/5) + 32\n",
        "\n",
        "temps_celsius = [0, 20, 37, 100]\n",
        "temps_fahrenheit = list(map(celsius_to_fahrenheit, temps_celsius))\n",
        "print(temps_fahrenheit)  # Outputs: [32.0, 68.0, 98.6, 212.0]"
      ],
      "metadata": {
        "colab": {
          "base_uri": "https://localhost:8080/"
        },
        "id": "SecqxfyYNU85",
        "outputId": "e5d5c184-ffc8-4418-cd98-6e88c1d4de24"
      },
      "execution_count": 10,
      "outputs": [
        {
          "output_type": "stream",
          "name": "stdout",
          "text": [
            "[32.0, 68.0, 98.6, 212.0]\n"
          ]
        }
      ]
    },
    {
      "cell_type": "markdown",
      "source": [
        "10. Create a Python program that uses 'filter()' to remove all the vowels from a given string."
      ],
      "metadata": {
        "id": "xqpprwr5NVPU"
      }
    },
    {
      "cell_type": "code",
      "source": [
        "def is_not_vowel(char):\n",
        "    return char.lower() not in 'aeiou'\n",
        "\n",
        "text = \"Hello World\"\n",
        "result = ''.join(filter(is_not_vowel, text))\n",
        "print(result)  # Outputs: Hll Wrld"
      ],
      "metadata": {
        "colab": {
          "base_uri": "https://localhost:8080/"
        },
        "id": "kvkx3wHyNVkK",
        "outputId": "30d69acc-5fb2-4d1a-ac61-0f591a5d651c"
      },
      "execution_count": 9,
      "outputs": [
        {
          "output_type": "stream",
          "name": "stdout",
          "text": [
            "Hll Wrld\n"
          ]
        }
      ]
    }
  ]
}